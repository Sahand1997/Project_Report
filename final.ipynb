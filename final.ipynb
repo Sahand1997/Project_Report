{
 "cells": [
  {
   "cell_type": "markdown",
   "metadata": {},
   "source": [
    "# Final\n",
    "### Author: Sahand Motameni\n",
    "### Date: 12/3/2024"
   ]
  },
  {
   "cell_type": "markdown",
   "metadata": {},
   "source": [
    "## Guidelines\n",
    "\n",
    "**Run All** in the document which loads these packages with the `import` function.\n",
    "\n",
    "Remember that continuing to develop a sound workflow for reproducible data analysis is important as you complete the lab and other assignments in this course.\n",
    "There will be periodic reminders in this assignment to remind you to **Run all, commit, and sync** your changes to GitHub.\n",
    "You should have at least 3 commits with meaningful commit messages by the end of the assignment.\n",
    "\n",
    "\n",
    "Use the remainder of this `.ipynb` to answer the questions however you see fit. Show all code and outputs where applicable"
   ]
  },
  {
   "cell_type": "markdown",
   "metadata": {},
   "source": [
    "# Part 1 - Employment\n",
    "\n",
    "A large university knows that about 70% of the full-time students are employed at least 5 hours per week.\n",
    "The members of the Statistics Department wonder if the same proportion of their students work at least 5 hours per week.\n",
    "They randomly sample 25 majors and find that 15 of the students (60%) work 5 or more hours each week."
   ]
  },
  {
   "cell_type": "markdown",
   "metadata": {},
   "source": [
    "## Question 1\n",
    "\n"
   ]
  },
  {
   "cell_type": "markdown",
   "metadata": {},
   "source": [
    "To set up a simulation for estimating the proportion of statistics majors who work 5 or more hours weekly, we can model the sampling process based on the university-wide assumption that 70% of full-time students work at least 5 hours. Using a binomial distribution, we simulate 25 students repeatedly (e.g., 10,000 trials) with a 70% probability of working. For each trial, we calculate the proportion of students working at least 5 hours to create a distribution of sample proportions.\n",
    "\n",
    "We then compare the observed proportion (60%) to this simulated distribution. This comparison helps assess whether the observed value aligns with what we’d expect if the true population proportion were 70%. If the observed proportion is within the likely range of outcomes, it suggests consistency with the assumption. Alternatively, a formal hypothesis test using the simulation results can determine whether there is evidence to reject the assumption."
   ]
  },
  {
   "cell_type": "markdown",
   "metadata": {},
   "source": [
    "## Question 2\n",
    "\n"
   ]
  },
  {
   "cell_type": "markdown",
   "metadata": {},
   "source": [
    "To approximate the bounds of the 95% confidence interval from the provided bootstrap distribution:\n",
    "\n",
    "1. The 95% confidence interval corresponds to the range between the 2.5th percentile and the 97.5th percentile of the distribution.\n",
    "2. Observing the histogram, the distribution appears roughly symmetric. Visually, the range of the bootstrap statistics seems concentrated between approximately 0.45 and 0.75.\n",
    "\n",
    "The precise boundaries of the interval could be calculated numerically from the bootstrap results, but based on the graph, a reasonable approximation of the 95% confidence interval is:\n",
    "\n",
    "[0.45, 0.75]."
   ]
  },
  {
   "cell_type": "markdown",
   "metadata": {},
   "source": [
    "## Question 3\n"
   ]
  },
  {
   "cell_type": "markdown",
   "metadata": {},
   "source": [
    "e: None of the above"
   ]
  },
  {
   "cell_type": "markdown",
   "metadata": {},
   "source": [
    "# Part 2 - Blizzard\n",
    "\n",
    "In 2020, employees of Blizzard Entertainment circulated a spreadsheet to anonymously share salaries and recent pay increases amidst rising tension in the video game industry over wage disparities and executive compensation. (Source: [Blizzard Workers Share Salaries in Revolt Over Pay](https://www.bloomberg.com/news/articles/2020-08-03/blizzard-workers-share-salaries-in-revolt-over-wage-disparities))\n",
    "\n",
    "The name of the data frame used for this analysis is `blizzard_salary` and the variables are:\n",
    "\n",
    "- `percent_incr`: Raise given in July 2020, as percent increase with values ranging from 1 (1% increase) to 21.5 (21.5% increase)\n",
    "\n",
    "- `salary_type`: Type of salary, with levels `Hourly` and `Salaried`\n",
    "\n",
    "- `annual_salary`: Annual salary, in USD, with values ranging from $50,939 to $216,856.\n",
    "\n",
    "- `performance_rating`: Most recent review performance rating, with levels `Poor`, `Successful`, `High`, and `Top`. The `Poor` level is the lowest rating and the `Top` level is the highest rating.\n",
    "\n",
    "The top ten rows and `.info` of `blizzard_salary` are shown below:\n",
    "\n",
    "```\n",
    "   percent_incr salary_type  annual_salary performance_rating\n",
    "0           1.0        year            1.0               High\n",
    "1           1.0        year            1.0         Successful\n",
    "2           1.0        year            1.0               High\n",
    "3           1.0      Hourly        33987.2         Successful\n",
    "4           NaN      Hourly        34798.4               High\n",
    "5           NaN      Hourly        35360.0                NaN\n",
    "6           NaN      Hourly        37440.0                NaN\n",
    "7           0.0      Hourly        37814.4                NaN\n",
    "8           4.0      Hourly        41100.8                Top\n",
    "9           1.2      Hourly        42328.0                NaN\n",
    "\n",
    "\n",
    "<class 'pandas.core.frame.DataFrame'>\n",
    "Index: 409 entries, 0 to 465\n",
    "Data columns (total 4 columns):\n",
    " #   Column              Non-Null Count  Dtype  \n",
    "---  ------              --------------  -----  \n",
    " 0   percent_incr        370 non-null    float64\n",
    " 1   salary_type         409 non-null    object \n",
    " 2   annual_salary       409 non-null    float64\n",
    " 3   performance_rating  298 non-null    object \n",
    "dtypes: float64(2), object(2)\n",
    "memory usage: 16.0+ KB\n",
    "None\n",
    "```"
   ]
  },
  {
   "cell_type": "markdown",
   "metadata": {},
   "source": [
    "## Question 4"
   ]
  },
  {
   "cell_type": "markdown",
   "metadata": {},
   "source": [
    "C: For every additional $1,000 of annual salary, the model predicts the raise to be higher, on average, by 0.016%."
   ]
  },
  {
   "cell_type": "markdown",
   "metadata": {},
   "source": [
    "## Question 5"
   ]
  },
  {
   "cell_type": "markdown",
   "metadata": {},
   "source": [
    "C: Adjusted R2 of raise_2_fit is higher than adjusted R2 of raise_1_fit."
   ]
  },
  {
   "cell_type": "markdown",
   "metadata": {},
   "source": [
    "## Question 6"
   ]
  },
  {
   "cell_type": "markdown",
   "metadata": {},
   "source": [
    "My teammate’s interpretation is incorrect because the coefficient for performance_rating_Successful represents a comparison to the reference category, which is likely High (the category not shown in the output). A negative coefficient means that individuals with a Successful rating receive, on average, raises that are 1.73 percentage points lower than those with a High rating, after accounting for annual salary. It doesn’t imply that Successful ratings lead to lower raises in an absolute sense, only that they are smaller compared to the reference group. To interpret the coefficients correctly, it’s essential to understand that they describe differences relative to the baseline group, not absolute values."
   ]
  },
  {
   "cell_type": "markdown",
   "metadata": {},
   "source": [
    "## Question 7"
   ]
  },
  {
   "cell_type": "markdown",
   "metadata": {},
   "source": [
    "b: “Successful”, “High”, “Top”"
   ]
  },
  {
   "cell_type": "markdown",
   "metadata": {},
   "source": [
    "## Question 8"
   ]
  },
  {
   "cell_type": "markdown",
   "metadata": {},
   "source": [
    "c: Figure 3"
   ]
  },
  {
   "cell_type": "markdown",
   "metadata": {},
   "source": [
    "## Question 9"
   ]
  },
  {
   "cell_type": "markdown",
   "metadata": {},
   "source": [
    "A parsimonious model is a model that achieves the best balance between simplicity and explanatory power. It includes only the most relevant predictors necessary to describe the relationship between variables, avoiding overfitting by excluding unnecessary complexity. From a data science perspective, it’s about finding the sweet spot where the model performs well on both training and unseen data while remaining interpretable and computationally efficient."
   ]
  },
  {
   "cell_type": "markdown",
   "metadata": {},
   "source": [
    "## Question 10"
   ]
  },
  {
   "cell_type": "markdown",
   "metadata": {},
   "source": [
    "c. The model predicts that the percentage increase employees with Successful performance get, on average, is higher by a factor of 6.502427 compared to the employees with Poor performance rating."
   ]
  },
  {
   "cell_type": "markdown",
   "metadata": {},
   "source": [
    "## Question 11"
   ]
  },
  {
   "cell_type": "markdown",
   "metadata": {},
   "source": [
    "a & d"
   ]
  },
  {
   "cell_type": "markdown",
   "metadata": {},
   "source": [
    "# Part 3 - Calculus"
   ]
  },
  {
   "cell_type": "markdown",
   "metadata": {},
   "source": [
    "## Question 12"
   ]
  },
  {
   "cell_type": "markdown",
   "metadata": {},
   "source": [
    "$$\n",
    "g(x) = \\left( \\sin(x^2) + \\cos(ax) \\right)^k\n",
    "$$"
   ]
  },
  {
   "cell_type": "markdown",
   "metadata": {},
   "source": [
    "Using the chain rule:\n",
    "\n",
    "$$\n",
    "\\frac{d}{dx} g(x) = k \\left( \\sin(x^2) + \\cos(ax) \\right)^{k-1} \\cdot \\frac{d}{dx} \\left( \\sin(x^2) + \\cos(ax) \\right)\n",
    "$$\n",
    "\n",
    "Derivative of the inner function:\n",
    "\n",
    "$$\n",
    "\\frac{d}{dx} \\left( \\sin(x^2) + \\cos(ax) \\right) = \\cos(x^2) \\cdot 2x - \\sin(ax) \\cdot a\n",
    "$$\n",
    "\n",
    "Substitute:\n",
    "\n",
    "$$\n",
    "\\frac{d}{dx} g(x) = k \\left( \\sin(x^2) + \\cos(ax) \\right)^{k-1} \\left( 2x \\cos(x^2) - a \\sin(ax) \\right)\n",
    "$$"
   ]
  },
  {
   "cell_type": "markdown",
   "metadata": {},
   "source": [
    "## Question 13"
   ]
  },
  {
   "cell_type": "markdown",
   "metadata": {},
   "source": [
    "$$\n",
    "\\int_a^b \\left( e^{cx} + \\frac{1}{x^n} \\right) dx\n",
    "$$"
   ]
  },
  {
   "cell_type": "markdown",
   "metadata": {},
   "source": [
    "Now: "
   ]
  },
  {
   "cell_type": "markdown",
   "metadata": {},
   "source": [
    "$$\n",
    "\\int_a^b e^{cx} dx + \\int_a^b \\frac{1}{x^n} dx\n",
    "$$\n",
    "\n",
    "   $$\n",
    "   \\int e^{cx} dx = \\frac{1}{c} e^{cx} \\quad \\text{so} \\quad \\left[ \\frac{1}{c} e^{cx} \\right]_a^b = \\frac{1}{c} e^{cb} - \\frac{1}{c} e^{ca}\n",
    "   $$\n",
    "\n",
    "   $$\n",
    "   \\int \\frac{1}{x^n} dx = \\frac{x^{1-n}}{1-n} \\quad \\text{so} \\quad \\left[ \\frac{x^{1-n}}{1-n} \\right]_a^b = \\frac{b^{1-n}}{1-n} - \\frac{a^{1-n}}{1-n}\n",
    "   $$\n",
    "\n",
    "Thus:\n",
    "\n",
    "$$\n",
    "\\frac{1}{c} \\left( e^{cb} - e^{ca} \\right) + \\frac{b^{1-n} - a^{1-n}}{1-n}\n",
    "$$"
   ]
  },
  {
   "cell_type": "markdown",
   "metadata": {},
   "source": [
    "# Part 4 - Linear Algebra"
   ]
  },
  {
   "cell_type": "markdown",
   "metadata": {},
   "source": [
    "## Question 14"
   ]
  },
  {
   "cell_type": "markdown",
   "metadata": {},
   "source": [
    "$$\n",
    "x^\\top = \\begin{bmatrix} \n",
    "x_1 & x_2 & x_3 & x_4 \n",
    "\\end{bmatrix}\n",
    "$$"
   ]
  },
  {
   "cell_type": "markdown",
   "metadata": {},
   "source": [
    "## Question 15"
   ]
  },
  {
   "cell_type": "markdown",
   "metadata": {},
   "source": [
    "$$\n",
    "N^\\top = \\begin{bmatrix} \n",
    "n_{11} & n_{21} & n_{31} & n_{41} \\\\ \n",
    "n_{12} & n_{22} & n_{32} & n_{42}\n",
    "\\end{bmatrix}\n",
    "$$"
   ]
  },
  {
   "cell_type": "markdown",
   "metadata": {},
   "source": [
    "## Question 16"
   ]
  },
  {
   "cell_type": "markdown",
   "metadata": {},
   "source": [
    "1. C has 3 rows and 2 columns, so its dimensions are 3×2.\n",
    "2. D has 2 rows and 3 columns, so its dimensions are 2×3\n",
    "\n",
    "3.1. Yes, because the number of columns of the first matrix is equal to the number of rows of the second matrix.\n",
    "\n",
    "\n",
    "3.2. The dimensions of CD will be 3×3."
   ]
  },
  {
   "cell_type": "markdown",
   "metadata": {},
   "source": [
    "## Question 17"
   ]
  },
  {
   "cell_type": "markdown",
   "metadata": {},
   "source": [
    "1. E is a 3×2 matrix because it has 3 rows and 2 columns"
   ]
  },
  {
   "cell_type": "markdown",
   "metadata": {},
   "source": [
    "2. F is a 2×1 matrix because it has 2 rows and 1 column"
   ]
  },
  {
   "cell_type": "markdown",
   "metadata": {},
   "source": [
    "3.1  Yes, because the number of columns of the first matrix is equal to the number of rows of the second matrix.\n"
   ]
  },
  {
   "cell_type": "markdown",
   "metadata": {},
   "source": [
    "3.2: \n",
    "   $$\n",
    "   EF = \\begin{bmatrix} \n",
    "   e_{11}f_{11} + e_{12}f_{21} \\\\ \n",
    "   e_{21}f_{11} + e_{22}f_{21} \\\\ \n",
    "   e_{31}f_{11} + e_{32}f_{21} \n",
    "   \\end{bmatrix}\n",
    "   $$"
   ]
  },
  {
   "cell_type": "markdown",
   "metadata": {},
   "source": [
    "# Wrap-up\n",
    "\n",
    "## Submission\n",
    "\n",
    "Before you wrap up the final assignment, make sure all of your documents are updated on your GitHub repo.\n",
    "We will be checking these to make sure you have been practicing how to commit and push changes.\n",
    "\n",
    "You must turn in the `.ipynb` file by the submission deadline to be considered \"on time\".\n",
    "\n",
    "\n",
    "## Checklist\n",
    "\n",
    "Make sure you have:\n",
    "\n",
    "-   attempted all questions\n",
    "-   run all code in your Jupyter notebook\n",
    "-   committed and pushed everything to your GitHub repository such that the Git pane in VS Code is empty\n",
    "\n",
    "\n",
    "## Grading\n",
    "\n",
    "The midterm is graded out of a total of 100 points.\n",
    "\n",
    "\n",
    "1. **Question 1**: 5 points\n",
    "\n",
    "2. **Question 2**: 5 points\n",
    "\n",
    "3. **Question 3**: 5 points\n",
    "\n",
    "4. **Question 4**: 5 points\n",
    "\n",
    "5. **Question 5**: 5 points\n",
    "\n",
    "6. **Question 6**: 5 points\n",
    "   \n",
    "7. **Question 7**: 5 points\n",
    "\n",
    "8. **Question 8**: 5 points\n",
    "\n",
    "9. **Question 9**: 5 points\n",
    "\n",
    "10. **Question 10**: 5 points\n",
    "\n",
    "11. **Question 11**: 5 points\n",
    "\n",
    "12. **Question 12**: 10 points\n",
    "\n",
    "13. **Question 13**: 10 points\n",
    "\n",
    "14. **Question 14**: 5 points\n",
    "\n",
    "15. **Question 15**: 5 points\n",
    "\n",
    "16. **Question 16**: 7.5 points\n",
    "\n",
    "17. **Question 17**: 7.5 points\n",
    "\n",
    "Total: **100 points**\n"
   ]
  }
 ],
 "metadata": {
  "kernelspec": {
   "display_name": "Python 3",
   "language": "python",
   "name": "python3"
  },
  "language_info": {
   "codemirror_mode": {
    "name": "ipython",
    "version": 3
   },
   "file_extension": ".py",
   "mimetype": "text/x-python",
   "name": "python",
   "nbconvert_exporter": "python",
   "pygments_lexer": "ipython3",
   "version": "3.12.5"
  }
 },
 "nbformat": 4,
 "nbformat_minor": 2
}
